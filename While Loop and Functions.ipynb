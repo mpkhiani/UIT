{
 "cells": [
  {
   "cell_type": "markdown",
   "metadata": {},
   "source": [
    "# Function\n",
    "- Pre Define Functions\n",
    "- User Define Functions"
   ]
  },
  {
   "cell_type": "markdown",
   "metadata": {},
   "source": [
    "# Funtion Sub Types\n",
    "- Return\n",
    "- Non Return\n",
    "- Required Arguments\n",
    "- Optional Arguments\n",
    "- Default Funtion"
   ]
  },
  {
   "cell_type": "code",
   "execution_count": 2,
   "metadata": {},
   "outputs": [
    {
     "name": "stdout",
     "output_type": "stream",
     "text": [
      "University Name: SMIU\n",
      "My Name is Manoj Khiani\n",
      "Education: MSCS\n",
      "Nationality: Pakistani\n"
     ]
    }
   ],
   "source": [
    "def Teacherinfo():\n",
    "    print(\"University Name: SMIU\")\n",
    "    print(\"My Name is Manoj Khiani\")\n",
    "    print(\"Education: MSCS\")\n",
    "    print(\"Nationality: Pakistani\")\n",
    "Teacherinfo()"
   ]
  },
  {
   "cell_type": "code",
   "execution_count": 4,
   "metadata": {},
   "outputs": [
    {
     "name": "stderr",
     "output_type": "stream",
     "text": [
      "UsageError: %%time is a cell magic, but the cell body is empty. Did you mean the line magic %time (single %)?\n"
     ]
    }
   ],
   "source": [
    "%%time Teacherinfo()"
   ]
  },
  {
   "cell_type": "code",
   "execution_count": 5,
   "metadata": {},
   "outputs": [
    {
     "name": "stdout",
     "output_type": "stream",
     "text": [
      "University Name: SMIU\n",
      "My Name is Manoj Khiani\n",
      "Education: MSCS\n",
      "Nationality: Pakistani\n",
      "Wall time: 0 ns\n"
     ]
    }
   ],
   "source": [
    "%time Teacherinfo()"
   ]
  },
  {
   "cell_type": "code",
   "execution_count": 6,
   "metadata": {},
   "outputs": [
    {
     "name": "stdout",
     "output_type": "stream",
     "text": [
      "University Name: SMIU\n",
      "My Name is Manoj Khiani\n",
      "Education: MSCS\n",
      "Nationality: Pakistani\n",
      "None\n"
     ]
    }
   ],
   "source": [
    "x = Teacherinfo()\n",
    "print(x)"
   ]
  },
  {
   "cell_type": "code",
   "execution_count": 8,
   "metadata": {},
   "outputs": [
    {
     "name": "stdout",
     "output_type": "stream",
     "text": [
      "Pakistan \n",
      "We are Pakistani.\n",
      "We love our Country.\n"
     ]
    }
   ],
   "source": [
    "def abc():\n",
    "    return(\"Pakistan \\nWe are Pakistani.\\nWe love our Country.\")\n",
    "x=abc()\n",
    "print(x)"
   ]
  },
  {
   "cell_type": "code",
   "execution_count": 9,
   "metadata": {},
   "outputs": [
    {
     "name": "stdout",
     "output_type": "stream",
     "text": [
      "University Name: SMIU\n",
      "My Name is Manoj Khiani\n",
      "Education: MSCS\n",
      "Nationality: Pakistani\n"
     ]
    },
    {
     "data": {
      "text/plain": [
       "'Pakistan \\nWe are Pakistani.\\nWe love our Country.'"
      ]
     },
     "execution_count": 9,
     "metadata": {},
     "output_type": "execute_result"
    }
   ],
   "source": [
    "def Teacherinfo():\n",
    "    print(\"University Name: SMIU\")\n",
    "    print(\"My Name is Manoj Khiani\")\n",
    "    print(\"Education: MSCS\")\n",
    "    print(\"Nationality: Pakistani\")\n",
    "    return(\"Pakistan \\nWe are Pakistani.\\nWe love our Country.\")\n",
    "Teacherinfo()"
   ]
  },
  {
   "cell_type": "code",
   "execution_count": 11,
   "metadata": {},
   "outputs": [
    {
     "name": "stdout",
     "output_type": "stream",
     "text": [
      "Manoj Khiani SMIU\n"
     ]
    }
   ],
   "source": [
    "uni = \"SMIU\" #Global\n",
    "def fullname():\n",
    "    fname=\"Manoj\"\n",
    "    lname=\"Khiani\"\n",
    "    print(fname,lname,uni)\n",
    "\n",
    "fullname()"
   ]
  },
  {
   "cell_type": "code",
   "execution_count": 13,
   "metadata": {},
   "outputs": [
    {
     "name": "stdout",
     "output_type": "stream",
     "text": [
      "Manoj Khiani SMIU\n",
      "None\n",
      "SMIU\n"
     ]
    }
   ],
   "source": [
    "print(fullname())\n",
    "print(uni)"
   ]
  },
  {
   "cell_type": "code",
   "execution_count": 15,
   "metadata": {},
   "outputs": [
    {
     "name": "stdout",
     "output_type": "stream",
     "text": [
      "Manoj\n",
      "MSCS\n",
      "Pakistani\n",
      "My Name is Manoj\n",
      "Education: MSCS\n",
      "Nationality: Pakistani\n"
     ]
    }
   ],
   "source": [
    "def Teacher(name, education, nationality):\n",
    "    # name = input()\n",
    "    # education = input()\n",
    "    # nationality = input()\n",
    "    print(\"My Name is\",name )\n",
    "    print(\"Education:\",education)\n",
    "    print(\"Nationality:\",nationality)\n",
    "\n",
    "Teacher(input(),input(),input())"
   ]
  },
  {
   "cell_type": "code",
   "execution_count": 16,
   "metadata": {},
   "outputs": [
    {
     "name": "stdout",
     "output_type": "stream",
     "text": [
      "a b c\n"
     ]
    }
   ],
   "source": [
    "def abc():\n",
    "    return 'a','b','c'\n",
    "x,y,z=abc()\n",
    "print(x,y,z)"
   ]
  },
  {
   "cell_type": "code",
   "execution_count": 17,
   "metadata": {},
   "outputs": [],
   "source": [
    "def abc():\n",
    "    return 'a','b','c'\n",
    "x,y,z=abc()"
   ]
  },
  {
   "cell_type": "code",
   "execution_count": 19,
   "metadata": {},
   "outputs": [
    {
     "data": {
      "text/plain": [
       "('a', 'b', 'c')"
      ]
     },
     "execution_count": 19,
     "metadata": {},
     "output_type": "execute_result"
    }
   ],
   "source": [
    "abc()"
   ]
  },
  {
   "cell_type": "code",
   "execution_count": 20,
   "metadata": {},
   "outputs": [],
   "source": [
    "l=[1,2,3]\n",
    "def aa():\n",
    "    l[0]='abc'\n",
    "aa()"
   ]
  },
  {
   "cell_type": "code",
   "execution_count": 21,
   "metadata": {},
   "outputs": [
    {
     "data": {
      "text/plain": [
       "['abc', 2, 3]"
      ]
     },
     "execution_count": 21,
     "metadata": {},
     "output_type": "execute_result"
    }
   ],
   "source": [
    "l"
   ]
  },
  {
   "cell_type": "code",
   "execution_count": 22,
   "metadata": {},
   "outputs": [],
   "source": [
    "stuinfo = {\"Name\":\"Manoj\",\"Gender\":\"Male\",\"Class\":\"CS1\",\"Roll No.\":9,\"addr\":\"C-39, Wajid Square\",\"subject\":[\"ITC\",\"PF\",\"BE\",\"PSI\"]}"
   ]
  },
  {
   "cell_type": "code",
   "execution_count": 25,
   "metadata": {},
   "outputs": [
    {
     "name": "stdout",
     "output_type": "stream",
     "text": [
      "My Name is Manoj Khiani. My age is 37 My Education MSCS\n"
     ]
    }
   ],
   "source": [
    "bio = {\"Name\":\"Manoj Khiani.\",\"age\":37,\"education\":\"MSCS\"}\n",
    "\n",
    "def myinfo(Name,age,education):\n",
    "    print(\"My Name is\",Name,\"My age is\",age,\"My Education\",education)\n",
    "\n",
    "myinfo(**bio)    "
   ]
  },
  {
   "cell_type": "code",
   "execution_count": 26,
   "metadata": {},
   "outputs": [
    {
     "name": "stdout",
     "output_type": "stream",
     "text": [
      "My Name is Name My age is age My Education education\n"
     ]
    }
   ],
   "source": [
    "myinfo(*bio)"
   ]
  },
  {
   "cell_type": "code",
   "execution_count": 29,
   "metadata": {},
   "outputs": [],
   "source": [
    "def xyz():\n",
    "    pass\n",
    "\n",
    "xyz()"
   ]
  },
  {
   "cell_type": "code",
   "execution_count": 30,
   "metadata": {},
   "outputs": [
    {
     "name": "stdout",
     "output_type": "stream",
     "text": [
      "Pakistan Zindabad 5\n",
      "Pakistan Zindabad 6\n",
      "Pakistan Zindabad 7\n",
      "Pakistan Zindabad 8\n",
      "Pakistan Zindabad 9\n",
      "Pakistan Zindabad 10\n"
     ]
    }
   ],
   "source": [
    "# While Loop\n",
    "i=5\n",
    "while(i<=10):\n",
    "    print(\"Pakistan Zindabad\",i)\n",
    "    i+=1"
   ]
  },
  {
   "cell_type": "code",
   "execution_count": 31,
   "metadata": {},
   "outputs": [
    {
     "name": "stdout",
     "output_type": "stream",
     "text": [
      "Pakistan Zindabad 0\n",
      "Pakistan Zindabad 1\n",
      "Pakistan Zindabad 2\n",
      "Pakistan Zindabad 3\n",
      "Pakistan Zindabad 4\n",
      "Pakistan Zindabad 5\n",
      "Pakistan Zindabad 6\n",
      "Pakistan Zindabad 7\n",
      "Pakistan Zindabad 8\n",
      "Pakistan Zindabad 9\n"
     ]
    }
   ],
   "source": [
    "for i in list(range(10)):\n",
    "    print(\"Pakistan Zindabad\",i)"
   ]
  },
  {
   "cell_type": "code",
   "execution_count": 35,
   "metadata": {},
   "outputs": [
    {
     "name": "stdout",
     "output_type": "stream",
     "text": [
      "Pakistan Zindabad 5\n",
      "Pakistan Zindabad 6\n",
      "Pakistan Zindabad 7\n",
      "Pakistan Zindabad 8\n"
     ]
    }
   ],
   "source": [
    "for i in list(range(5,11)):\n",
    "    print(\"Pakistan Zindabad\",i)\n",
    "    if i==8:\n",
    "        break"
   ]
  },
  {
   "cell_type": "code",
   "execution_count": 36,
   "metadata": {},
   "outputs": [
    {
     "name": "stdout",
     "output_type": "stream",
     "text": [
      "Pakistan Zindabad 5\n",
      "Pakistan Zindabad 6\n",
      "Pakistan Zindabad 7\n",
      "Pakistan Zindabad 8\n",
      "Pakistan Zindabad 9\n",
      "Pakistan Zindabad 10\n"
     ]
    }
   ],
   "source": [
    "for i in list(range(5,11)):\n",
    "    print(\"Pakistan Zindabad\",i)\n",
    "    if i==8:\n",
    "        break"
   ]
  },
  {
   "cell_type": "code",
   "execution_count": 37,
   "metadata": {},
   "outputs": [
    {
     "name": "stdout",
     "output_type": "stream",
     "text": [
      "Pakistan Zindabad 5\n",
      "Pakistan Zindabad 6\n",
      "Pakistan Zindabad 7\n",
      "Pakistan Zindabad 8\n",
      "Pakistan Zindabad 9\n",
      "Pakistan Zindabad 10\n"
     ]
    }
   ],
   "source": [
    "for i in list(range(5,11)):\n",
    "    print(\"Pakistan Zindabad\",i)\n",
    "    if i==8:\n",
    "        pass"
   ]
  },
  {
   "cell_type": "code",
   "execution_count": 39,
   "metadata": {},
   "outputs": [
    {
     "name": "stdout",
     "output_type": "stream",
     "text": [
      "Pakistan Zindabad 0\n",
      "Pakistan Zindabad 1\n",
      "Pakistan Zindabad 2\n",
      "Pakistan Zindabad 3\n",
      "Pakistan Zindabad 4\n",
      "Pakistan Zindabad 5\n",
      "Pakistan Zindabad 6\n",
      "Pakistan Zindabad 7\n",
      "Pakistan Zindabad 8\n",
      "Pakistan Zindabad 9\n",
      "Pakistan Zindabad 10\n"
     ]
    }
   ],
   "source": [
    "for i in list(range(0,11)):\n",
    "    print(\"Pakistan Zindabad\",i)\n",
    "    if i==8:\n",
    "        continue"
   ]
  },
  {
   "cell_type": "code",
   "execution_count": 45,
   "metadata": {},
   "outputs": [
    {
     "name": "stdout",
     "output_type": "stream",
     "text": [
      "Name Manoj\n",
      "Age 37\n"
     ]
    }
   ],
   "source": [
    "def abc(**dic):\n",
    "    for k,v in dic.items():\n",
    "        print(k,v)\n",
    "        \n",
    "abc(Name=\"Manoj\",Age=37)"
   ]
  },
  {
   "cell_type": "code",
   "execution_count": null,
   "metadata": {},
   "outputs": [],
   "source": []
  }
 ],
 "metadata": {
  "kernelspec": {
   "display_name": "Python 3",
   "language": "python",
   "name": "python3"
  },
  "language_info": {
   "codemirror_mode": {
    "name": "ipython",
    "version": 3
   },
   "file_extension": ".py",
   "mimetype": "text/x-python",
   "name": "python",
   "nbconvert_exporter": "python",
   "pygments_lexer": "ipython3",
   "version": "3.7.1"
  }
 },
 "nbformat": 4,
 "nbformat_minor": 2
}
