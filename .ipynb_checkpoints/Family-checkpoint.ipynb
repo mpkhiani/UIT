{
 "cells": [
  {
   "cell_type": "markdown",
   "metadata": {},
   "source": [
    "# LIST\n",
    "- list defination\n",
    "- insert, append\n",
    "- pop, del, remove\n",
    "- \"+\" concatination\n",
    "- slicing"
   ]
  },
  {
   "cell_type": "code",
   "execution_count": 2,
   "metadata": {},
   "outputs": [],
   "source": [
    "Names = ['Manoj','Ramesh','Pawan','Kabeer','Bhavesh']"
   ]
  },
  {
   "cell_type": "code",
   "execution_count": 3,
   "metadata": {},
   "outputs": [
    {
     "ename": "NameError",
     "evalue": "name 'names' is not defined",
     "output_type": "error",
     "traceback": [
      "\u001b[1;31m---------------------------------------------------------------------------\u001b[0m",
      "\u001b[1;31mNameError\u001b[0m                                 Traceback (most recent call last)",
      "\u001b[1;32m<ipython-input-3-c8beb69a2cd4>\u001b[0m in \u001b[0;36m<module>\u001b[1;34m\u001b[0m\n\u001b[1;32m----> 1\u001b[1;33m \u001b[0mnames\u001b[0m\u001b[1;33m\u001b[0m\u001b[1;33m\u001b[0m\u001b[0m\n\u001b[0m",
      "\u001b[1;31mNameError\u001b[0m: name 'names' is not defined"
     ]
    }
   ],
   "source": [
    "names"
   ]
  },
  {
   "cell_type": "code",
   "execution_count": 4,
   "metadata": {},
   "outputs": [
    {
     "data": {
      "text/plain": [
       "['Manoj', 'Ramesh', 'Pawan', 'Kabeer', 'Bhavesh']"
      ]
     },
     "execution_count": 4,
     "metadata": {},
     "output_type": "execute_result"
    }
   ],
   "source": [
    "Names"
   ]
  },
  {
   "cell_type": "code",
   "execution_count": 5,
   "metadata": {},
   "outputs": [
    {
     "data": {
      "text/plain": [
       "'Kabeer'"
      ]
     },
     "execution_count": 5,
     "metadata": {},
     "output_type": "execute_result"
    }
   ],
   "source": [
    "Names[3]"
   ]
  },
  {
   "cell_type": "code",
   "execution_count": 6,
   "metadata": {},
   "outputs": [
    {
     "data": {
      "text/plain": [
       "'Pawan'"
      ]
     },
     "execution_count": 6,
     "metadata": {},
     "output_type": "execute_result"
    }
   ],
   "source": [
    "Names[-3]"
   ]
  },
  {
   "cell_type": "code",
   "execution_count": 25,
   "metadata": {},
   "outputs": [],
   "source": [
    "Names.append('Ravi')"
   ]
  },
  {
   "cell_type": "code",
   "execution_count": 27,
   "metadata": {},
   "outputs": [],
   "source": [
    "Names.insert(0,'Manoj')"
   ]
  },
  {
   "cell_type": "code",
   "execution_count": 28,
   "metadata": {},
   "outputs": [
    {
     "data": {
      "text/plain": [
       "['Manoj',\n",
       " 'Ramesh',\n",
       " 'Sangeeta',\n",
       " 'Pawan',\n",
       " 'Kabeer',\n",
       " 'Bhavesh',\n",
       " 'Ravi',\n",
       " 'Arshika',\n",
       " 'Sonakashi',\n",
       " 'Ravi']"
      ]
     },
     "execution_count": 28,
     "metadata": {},
     "output_type": "execute_result"
    }
   ],
   "source": [
    "del Names[7]\n",
    "Names"
   ]
  },
  {
   "cell_type": "code",
   "execution_count": 29,
   "metadata": {},
   "outputs": [
    {
     "data": {
      "text/plain": [
       "['Manoj',\n",
       " 'Ramesh',\n",
       " 'Sangeeta',\n",
       " 'Pawan',\n",
       " 'Kabeer',\n",
       " 'Bhavesh',\n",
       " 'Ravi',\n",
       " 'Simran',\n",
       " 'Arshika',\n",
       " 'Sonakashi',\n",
       " 'Ravi']"
      ]
     },
     "execution_count": 29,
     "metadata": {},
     "output_type": "execute_result"
    }
   ],
   "source": [
    "Names.insert(7, 'Simran')\n",
    "Names"
   ]
  },
  {
   "cell_type": "code",
   "execution_count": 11,
   "metadata": {},
   "outputs": [
    {
     "data": {
      "text/plain": [
       "list"
      ]
     },
     "execution_count": 11,
     "metadata": {},
     "output_type": "execute_result"
    }
   ],
   "source": [
    "type(Names)"
   ]
  },
  {
   "cell_type": "code",
   "execution_count": 31,
   "metadata": {},
   "outputs": [
    {
     "data": {
      "text/plain": [
       "['Manoj',\n",
       " 'Ramesh',\n",
       " 'Sangeeta',\n",
       " 'Pawan',\n",
       " 'Kabeer',\n",
       " 'Bhavesh',\n",
       " 'Ravi',\n",
       " 'Simran',\n",
       " 'Arshika',\n",
       " 'Sonakashi']"
      ]
     },
     "execution_count": 31,
     "metadata": {},
     "output_type": "execute_result"
    }
   ],
   "source": [
    "Names.pop(-1)\n",
    "Names"
   ]
  },
  {
   "cell_type": "code",
   "execution_count": 32,
   "metadata": {},
   "outputs": [
    {
     "data": {
      "text/plain": [
       "['Manoj',\n",
       " 'Manoj',\n",
       " 'Ramesh',\n",
       " 'Sangeeta',\n",
       " 'Pawan',\n",
       " 'Kabeer',\n",
       " 'Bhavesh',\n",
       " 'Ravi',\n",
       " 'Simran',\n",
       " 'Arshika',\n",
       " 'Sonakashi']"
      ]
     },
     "execution_count": 32,
     "metadata": {},
     "output_type": "execute_result"
    }
   ],
   "source": [
    "Names = [\"Manoj\"] + Names\n",
    "Names"
   ]
  },
  {
   "cell_type": "code",
   "execution_count": 33,
   "metadata": {},
   "outputs": [
    {
     "data": {
      "text/plain": [
       "['Manoj',\n",
       " 'Ramesh',\n",
       " 'Sangeeta',\n",
       " 'Pawan',\n",
       " 'Kabeer',\n",
       " 'Bhavesh',\n",
       " 'Ravi',\n",
       " 'Simran',\n",
       " 'Arshika',\n",
       " 'Sonakashi']"
      ]
     },
     "execution_count": 33,
     "metadata": {},
     "output_type": "execute_result"
    }
   ],
   "source": [
    "Names.remove('Manoj')\n",
    "Names"
   ]
  },
  {
   "cell_type": "code",
   "execution_count": 38,
   "metadata": {},
   "outputs": [],
   "source": [
    "Names.append(['Simran','Arshika','Sonakashi'])"
   ]
  },
  {
   "cell_type": "code",
   "execution_count": 39,
   "metadata": {},
   "outputs": [
    {
     "data": {
      "text/plain": [
       "['Manoj',\n",
       " 'Ramesh',\n",
       " 'Sangeeta',\n",
       " 'Pawan',\n",
       " 'Kabeer',\n",
       " 'Bhavesh',\n",
       " 'Ravi',\n",
       " 'Simran',\n",
       " 'Arshika',\n",
       " 'Sonakashi',\n",
       " ['Simran', 'Arshika', 'Sonakashi']]"
      ]
     },
     "execution_count": 39,
     "metadata": {},
     "output_type": "execute_result"
    }
   ],
   "source": [
    "Names"
   ]
  },
  {
   "cell_type": "code",
   "execution_count": 40,
   "metadata": {},
   "outputs": [
    {
     "data": {
      "text/plain": [
       "['Simran', 'Arshika', 'Sonakashi']"
      ]
     },
     "execution_count": 40,
     "metadata": {},
     "output_type": "execute_result"
    }
   ],
   "source": [
    "Names.pop(-1)"
   ]
  },
  {
   "cell_type": "code",
   "execution_count": 47,
   "metadata": {},
   "outputs": [],
   "source": [
    "Names = ['Manoj',\n",
    " 'Ramesh',\n",
    " 'Sangeeta',\n",
    " 'Pawan',\n",
    " 'Kabeer',\n",
    " 'Bhavesh',\n",
    " 'Ravi',\n",
    " 'Simran',\n",
    " 'Arshika',\n",
    " 'Sonakashi']"
   ]
  },
  {
   "cell_type": "code",
   "execution_count": 48,
   "metadata": {
    "scrolled": true
   },
   "outputs": [
    {
     "data": {
      "text/plain": [
       "['Manoj',\n",
       " 'Ramesh',\n",
       " 'Sangeeta',\n",
       " 'Khiani',\n",
       " 'Pawan',\n",
       " 'Kabeer',\n",
       " 'Bhavesh',\n",
       " 'Ravi',\n",
       " 'Simran',\n",
       " 'Arshika',\n",
       " 'Sonakashi']"
      ]
     },
     "execution_count": 48,
     "metadata": {},
     "output_type": "execute_result"
    }
   ],
   "source": [
    "Names.insert(3,'Khiani')\n",
    "Names"
   ]
  },
  {
   "cell_type": "code",
   "execution_count": 49,
   "metadata": {},
   "outputs": [],
   "source": [
    "NewN = Names.pop()"
   ]
  },
  {
   "cell_type": "code",
   "execution_count": 50,
   "metadata": {},
   "outputs": [
    {
     "data": {
      "text/plain": [
       "['Manoj',\n",
       " 'Ramesh',\n",
       " 'Sangeeta',\n",
       " 'Khiani',\n",
       " 'Pawan',\n",
       " 'Kabeer',\n",
       " 'Bhavesh',\n",
       " 'Ravi',\n",
       " 'Simran',\n",
       " 'Arshika']"
      ]
     },
     "execution_count": 50,
     "metadata": {},
     "output_type": "execute_result"
    }
   ],
   "source": [
    "Names"
   ]
  },
  {
   "cell_type": "code",
   "execution_count": 51,
   "metadata": {},
   "outputs": [
    {
     "data": {
      "text/plain": [
       "'Sonakashi'"
      ]
     },
     "execution_count": 51,
     "metadata": {},
     "output_type": "execute_result"
    }
   ],
   "source": [
    "NewN"
   ]
  },
  {
   "cell_type": "code",
   "execution_count": 53,
   "metadata": {},
   "outputs": [
    {
     "data": {
      "text/plain": [
       "str"
      ]
     },
     "execution_count": 53,
     "metadata": {},
     "output_type": "execute_result"
    }
   ],
   "source": [
    "type(NewN)"
   ]
  },
  {
   "cell_type": "code",
   "execution_count": 56,
   "metadata": {},
   "outputs": [],
   "source": [
    "Names.extend(NewN)"
   ]
  },
  {
   "cell_type": "code",
   "execution_count": 57,
   "metadata": {},
   "outputs": [
    {
     "data": {
      "text/plain": [
       "['Manoj',\n",
       " 'Ramesh',\n",
       " 'Sangeeta',\n",
       " 'Khiani',\n",
       " 'Pawan',\n",
       " 'Kabeer',\n",
       " 'Bhavesh',\n",
       " 'Ravi',\n",
       " 'Simran',\n",
       " 'Arshika',\n",
       " 'Sonakashi',\n",
       " 'S',\n",
       " 'o',\n",
       " 'n',\n",
       " 'a',\n",
       " 'k',\n",
       " 'a',\n",
       " 's',\n",
       " 'h',\n",
       " 'i']"
      ]
     },
     "execution_count": 57,
     "metadata": {},
     "output_type": "execute_result"
    }
   ],
   "source": [
    "Names"
   ]
  },
  {
   "cell_type": "code",
   "execution_count": null,
   "metadata": {},
   "outputs": [],
   "source": []
  }
 ],
 "metadata": {
  "anaconda-cloud": {},
  "kernelspec": {
   "display_name": "Python 3",
   "language": "python",
   "name": "python3"
  },
  "language_info": {
   "codemirror_mode": {
    "name": "ipython",
    "version": 3
   },
   "file_extension": ".py",
   "mimetype": "text/x-python",
   "name": "python",
   "nbconvert_exporter": "python",
   "pygments_lexer": "ipython3",
   "version": "3.7.1"
  }
 },
 "nbformat": 4,
 "nbformat_minor": 1
}
